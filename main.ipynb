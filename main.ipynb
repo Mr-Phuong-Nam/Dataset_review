{
  "cells": [
    {
      "cell_type": "markdown",
      "metadata": {
        "id": "IcBrjIUc1YFz"
      },
      "source": [
        "# Data collection"
      ]
    },
    {
      "cell_type": "code",
      "execution_count": null,
      "metadata": {
        "id": "a_xzxceG1YF0"
      },
      "outputs": [],
      "source": [
        "import torch\n",
        "import pandas as pd\n",
        "import numpy as np"
      ]
    },
    {
      "cell_type": "markdown",
      "source": [
        "**TODO**: nothing."
      ],
      "metadata": {
        "id": "vJz-sL6Z1mVS"
      }
    },
    {
      "cell_type": "code",
      "execution_count": null,
      "metadata": {
        "id": "RBS8nWHY1YF1",
        "outputId": "81792bae-5b4c-48b0-b216-891893cf2942"
      },
      "outputs": [
        {
          "data": {
            "text/html": [
              "<div>\n",
              "<style scoped>\n",
              "    .dataframe tbody tr th:only-of-type {\n",
              "        vertical-align: middle;\n",
              "    }\n",
              "\n",
              "    .dataframe tbody tr th {\n",
              "        vertical-align: top;\n",
              "    }\n",
              "\n",
              "    .dataframe thead th {\n",
              "        text-align: right;\n",
              "    }\n",
              "</style>\n",
              "<table border=\"1\" class=\"dataframe\">\n",
              "  <thead>\n",
              "    <tr style=\"text-align: right;\">\n",
              "      <th></th>\n",
              "      <th>name</th>\n",
              "      <th>distance</th>\n",
              "      <th>stellar_magnitude</th>\n",
              "      <th>planet_type</th>\n",
              "      <th>discovery_year</th>\n",
              "      <th>mass_multiplier</th>\n",
              "      <th>mass_wrt</th>\n",
              "      <th>radius_multiplier</th>\n",
              "      <th>radius_wrt</th>\n",
              "      <th>orbital_radius</th>\n",
              "      <th>orbital_period</th>\n",
              "      <th>eccentricity</th>\n",
              "      <th>detection_method</th>\n",
              "    </tr>\n",
              "  </thead>\n",
              "  <tbody>\n",
              "    <tr>\n",
              "      <th>0</th>\n",
              "      <td>11 Comae Berenices b</td>\n",
              "      <td>304.0</td>\n",
              "      <td>4.72307</td>\n",
              "      <td>Gas Giant</td>\n",
              "      <td>2007</td>\n",
              "      <td>19.40000</td>\n",
              "      <td>Jupiter</td>\n",
              "      <td>1.08</td>\n",
              "      <td>Jupiter</td>\n",
              "      <td>1.290000</td>\n",
              "      <td>0.892539</td>\n",
              "      <td>0.23</td>\n",
              "      <td>Radial Velocity</td>\n",
              "    </tr>\n",
              "    <tr>\n",
              "      <th>1</th>\n",
              "      <td>11 Ursae Minoris b</td>\n",
              "      <td>409.0</td>\n",
              "      <td>5.01300</td>\n",
              "      <td>Gas Giant</td>\n",
              "      <td>2009</td>\n",
              "      <td>14.74000</td>\n",
              "      <td>Jupiter</td>\n",
              "      <td>1.09</td>\n",
              "      <td>Jupiter</td>\n",
              "      <td>1.530000</td>\n",
              "      <td>1.400000</td>\n",
              "      <td>0.08</td>\n",
              "      <td>Radial Velocity</td>\n",
              "    </tr>\n",
              "    <tr>\n",
              "      <th>2</th>\n",
              "      <td>14 Andromedae b</td>\n",
              "      <td>246.0</td>\n",
              "      <td>5.23133</td>\n",
              "      <td>Gas Giant</td>\n",
              "      <td>2008</td>\n",
              "      <td>4.80000</td>\n",
              "      <td>Jupiter</td>\n",
              "      <td>1.15</td>\n",
              "      <td>Jupiter</td>\n",
              "      <td>0.830000</td>\n",
              "      <td>0.508693</td>\n",
              "      <td>0.00</td>\n",
              "      <td>Radial Velocity</td>\n",
              "    </tr>\n",
              "    <tr>\n",
              "      <th>3</th>\n",
              "      <td>14 Herculis b</td>\n",
              "      <td>58.0</td>\n",
              "      <td>6.61935</td>\n",
              "      <td>Gas Giant</td>\n",
              "      <td>2002</td>\n",
              "      <td>8.13881</td>\n",
              "      <td>Jupiter</td>\n",
              "      <td>1.12</td>\n",
              "      <td>Jupiter</td>\n",
              "      <td>2.773069</td>\n",
              "      <td>4.800000</td>\n",
              "      <td>0.37</td>\n",
              "      <td>Radial Velocity</td>\n",
              "    </tr>\n",
              "    <tr>\n",
              "      <th>4</th>\n",
              "      <td>16 Cygni B b</td>\n",
              "      <td>69.0</td>\n",
              "      <td>6.21500</td>\n",
              "      <td>Gas Giant</td>\n",
              "      <td>1996</td>\n",
              "      <td>1.78000</td>\n",
              "      <td>Jupiter</td>\n",
              "      <td>1.20</td>\n",
              "      <td>Jupiter</td>\n",
              "      <td>1.660000</td>\n",
              "      <td>2.200000</td>\n",
              "      <td>0.68</td>\n",
              "      <td>Radial Velocity</td>\n",
              "    </tr>\n",
              "  </tbody>\n",
              "</table>\n",
              "</div>"
            ],
            "text/plain": [
              "                   name  distance  stellar_magnitude planet_type  \\\n",
              "0  11 Comae Berenices b     304.0            4.72307   Gas Giant   \n",
              "1    11 Ursae Minoris b     409.0            5.01300   Gas Giant   \n",
              "2       14 Andromedae b     246.0            5.23133   Gas Giant   \n",
              "3         14 Herculis b      58.0            6.61935   Gas Giant   \n",
              "4          16 Cygni B b      69.0            6.21500   Gas Giant   \n",
              "\n",
              "   discovery_year  mass_multiplier mass_wrt  radius_multiplier radius_wrt  \\\n",
              "0            2007         19.40000  Jupiter               1.08    Jupiter   \n",
              "1            2009         14.74000  Jupiter               1.09    Jupiter   \n",
              "2            2008          4.80000  Jupiter               1.15    Jupiter   \n",
              "3            2002          8.13881  Jupiter               1.12    Jupiter   \n",
              "4            1996          1.78000  Jupiter               1.20    Jupiter   \n",
              "\n",
              "   orbital_radius  orbital_period  eccentricity detection_method  \n",
              "0        1.290000        0.892539          0.23  Radial Velocity  \n",
              "1        1.530000        1.400000          0.08  Radial Velocity  \n",
              "2        0.830000        0.508693          0.00  Radial Velocity  \n",
              "3        2.773069        4.800000          0.37  Radial Velocity  \n",
              "4        1.660000        2.200000          0.68  Radial Velocity  "
            ]
          },
          "execution_count": 4,
          "metadata": {},
          "output_type": "execute_result"
        }
      ],
      "source": [
        "universe_df = pd.read_csv('./VuTru/NASA_Exoplanets.csv')\n",
        "universe_df.info()\n",
        "universe_df.head(10)"
      ]
    },
    {
      "cell_type": "code",
      "source": [
        "universe_df.describe()"
      ],
      "metadata": {
        "id": "Ne6u0ErP1htP"
      },
      "execution_count": null,
      "outputs": []
    }
  ],
  "metadata": {
    "kernelspec": {
      "display_name": "min_ds-env",
      "language": "python",
      "name": "python3"
    },
    "language_info": {
      "codemirror_mode": {
        "name": "ipython",
        "version": 3
      },
      "file_extension": ".py",
      "mimetype": "text/x-python",
      "name": "python",
      "nbconvert_exporter": "python",
      "pygments_lexer": "ipython3",
      "version": "3.10.8"
    },
    "colab": {
      "provenance": []
    }
  },
  "nbformat": 4,
  "nbformat_minor": 0
}